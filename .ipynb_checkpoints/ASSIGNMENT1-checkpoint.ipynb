{
 "cells": [
  {
   "cell_type": "code",
   "execution_count": 1,
   "metadata": {},
   "outputs": [
    {
     "name": "stdout",
     "output_type": "stream",
     "text": [
      "Twinkle, twinkle, little star, \n",
      "\t How I wonder what you are! \n",
      "\t\t Up above the world so high, \n",
      "\t\t Like a diamond in the sky. \n",
      " Twinkle, twinkle, little star, \n",
      "\t How I wonder what you are!\n"
     ]
    }
   ],
   "source": [
    "a=\"Twinkle, twinkle, little star,\"\n",
    "b=\"How I wonder what you are!\"\n",
    "c=\"Up above the world so high,\"\n",
    "d=\"Like a diamond in the sky.\"\n",
    "\n",
    "print(a,\"\\n\\t\",b,\"\\n\\t\\t\",c,\"\\n\\t\\t\",d,\"\\n\",a,\"\\n\\t\",b)\n"
   ]
  },
  {
   "cell_type": "code",
   "execution_count": 2,
   "metadata": {},
   "outputs": [
    {
     "name": "stdout",
     "output_type": "stream",
     "text": [
      "Python Version:\n",
      "3.7.4 (default, Aug  9 2019, 18:34:13) [MSC v.1915 64 bit (AMD64)]\n"
     ]
    }
   ],
   "source": [
    "import sys\n",
    "print(\"Python Version:\")\n",
    "print(sys.version)"
   ]
  },
  {
   "cell_type": "code",
   "execution_count": 3,
   "metadata": {},
   "outputs": [
    {
     "name": "stdout",
     "output_type": "stream",
     "text": [
      "Date: 2020-01-04\n",
      "Time: 05:39:43.865759\n"
     ]
    }
   ],
   "source": [
    "import datetime\n",
    "a=datetime.datetime.now()\n",
    "print(\"Date:\",a.date())\n",
    "print(\"Time:\",a.time())"
   ]
  },
  {
   "cell_type": "code",
   "execution_count": 4,
   "metadata": {},
   "outputs": [
    {
     "name": "stdout",
     "output_type": "stream",
     "text": [
      "Enter radius: 2\n",
      "Area of circle is  12.566370614359172\n"
     ]
    }
   ],
   "source": [
    "\n",
    "import math\n",
    "r=float(input(\"Enter radius: \"))\n",
    "a=math.pi*(r**2)\n",
    "print(\"Area of circle is \",a)"
   ]
  },
  {
   "cell_type": "code",
   "execution_count": 5,
   "metadata": {},
   "outputs": [
    {
     "name": "stdout",
     "output_type": "stream",
     "text": [
      "Enter First Name: Ali\n",
      "Enter Last Name: Shahzad\n",
      "Ali Shahzad\n"
     ]
    }
   ],
   "source": [
    "a=input(\"Enter First Name: \")\n",
    "b=input(\"Enter Last Name: \")\n",
    "print(a,b)"
   ]
  },
  {
   "cell_type": "code",
   "execution_count": 9,
   "metadata": {},
   "outputs": [
    {
     "name": "stdout",
     "output_type": "stream",
     "text": [
      "Addition of two numbers\n",
      "enter 1st num:2\n",
      "enter 2nd num:3\n",
      "5\n"
     ]
    }
   ],
   "source": [
    "print(\"Addition of two numbers\")\n",
    "x=input(\"enter 1st num:\")\n",
    "y=input(\"enter 2nd num:\")\n",
    "print(int(y) + int(x) )"
   ]
  },
  {
   "cell_type": "code",
   "execution_count": null,
   "metadata": {},
   "outputs": [],
   "source": []
  }
 ],
 "metadata": {
  "kernelspec": {
   "display_name": "Python 3",
   "language": "python",
   "name": "python3"
  },
  "language_info": {
   "codemirror_mode": {
    "name": "ipython",
    "version": 3
   },
   "file_extension": ".py",
   "mimetype": "text/x-python",
   "name": "python",
   "nbconvert_exporter": "python",
   "pygments_lexer": "ipython3",
   "version": "3.7.4"
  }
 },
 "nbformat": 4,
 "nbformat_minor": 2
}
