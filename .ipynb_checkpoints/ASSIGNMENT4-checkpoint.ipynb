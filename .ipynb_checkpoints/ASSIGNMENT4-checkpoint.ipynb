{
 "cells": [
  {
   "cell_type": "code",
   "execution_count": 2,
   "metadata": {},
   "outputs": [
    {
     "name": "stdout",
     "output_type": "stream",
     "text": [
      "Ali\n",
      "Shahzad\n",
      "22\n",
      "Karachi\n",
      "Undergraduate\n",
      "{'first_name': 'Ali', 'last_name': 'Shahzad', 'age': 22, 'city': 'Karachi', 'qualification': 'Undergraduate'}\n",
      "{'first_name': 'Ali', 'last_name': 'Shahzad', 'age': 22, 'city': 'Karachi', 'qualification': 'Intermediate'}\n",
      "{'first_name': 'Ali', 'last_name': 'Shahzad', 'age': 22, 'city': 'Karachi'}\n"
     ]
    }
   ],
   "source": [
    "person = {\n",
    "    'first_name': 'Ali',\n",
    "    'last_name': 'Shahzad',\n",
    "    'age': 22,\n",
    "    'city': 'Karachi',\n",
    "    }\n",
    "\n",
    "print(person['first_name'])\n",
    "print(person['last_name'])\n",
    "print(person['age'])\n",
    "print(person['city'])\n",
    "\n",
    "person['qualification'] = 'Undergraduate'\n",
    "print(person['qualification'])\n",
    "print(person)\n",
    "person.update(qualification = 'Intermediate')\n",
    "print(person)\n",
    "del person['qualification']\n",
    "print(person)"
   ]
  },
  {
   "cell_type": "code",
   "execution_count": 3,
   "metadata": {},
   "outputs": [
    {
     "name": "stdout",
     "output_type": "stream",
     "text": [
      "\n",
      "Karachi is in Pakistan.\n",
      "  It has a population of about 21000000.\n",
      "  The Indus River river is nearby.\n",
      "\n",
      "Jhelum is in Pakistan.\n",
      "  It has a population of about 11000000.\n",
      "  The Jhelum River river is nearby.\n",
      "\n",
      "Mecca is in Saudia Arabia.\n",
      "  It has a population of about 15000000.\n",
      "  The Aab E Zam Zam river is nearby.\n"
     ]
    }
   ],
   "source": [
    "cities = {\n",
    "    'Karachi': {\n",
    "        'country': 'Pakistan',\n",
    "        'population': 21000000,\n",
    "        'nearby river': 'indus river',\n",
    "        },\n",
    "    'Jhelum': {\n",
    "        'country': 'Pakistan',\n",
    "        'population': 11000000,\n",
    "        'nearby river': 'Jhelum River',\n",
    "        },\n",
    "    'Mecca': {\n",
    "        'country': 'Saudia Arabia',\n",
    "        'population': 15000000,\n",
    "        'nearby river': 'Aab e zam zam',\n",
    "        }\n",
    "    }\n",
    "\n",
    "for city, city_info in cities.items():\n",
    "    country = city_info['country'].title()\n",
    "    population = city_info['population']\n",
    "    river = city_info['nearby river'].title()\n",
    "\n",
    "    print(\"\\n\" + city.title() + \" is in \" + country + \".\")\n",
    "    print(\"  It has a population of about \" + str(population) + \".\")\n",
    "    print(\"  The \" + river + \" river is nearby.\")"
   ]
  },
  {
   "cell_type": "code",
   "execution_count": null,
   "metadata": {},
   "outputs": [],
   "source": [
    "prompt = \"How old are you?\"\n",
    "prompt += \"\\nEnter your age. \"\n",
    "while True:\n",
    "    age = input(prompt)\n",
    "    if age == 'quit':\n",
    "        break\n",
    "    age = int(age)\n",
    "\n",
    "    if age < 3:\n",
    "        print(\"  You get in free!\")\n",
    "    elif age < 13:\n",
    "        print(\"  Your ticket is $15.\")\n",
    "    else:\n",
    "        print(\"  Your ticket is $25.\")"
   ]
  },
  {
   "cell_type": "code",
   "execution_count": null,
   "metadata": {},
   "outputs": [],
   "source": [
    "def favorite_book(title):\n",
    "    \"\"\"Display a message about someone's favorite book.\"\"\"\n",
    "    print(title + \" is one of my favorite books.\")\n",
    "\n",
    "favorite_book('Easy way to learn python')"
   ]
  },
  {
   "cell_type": "code",
   "execution_count": null,
   "metadata": {},
   "outputs": [],
   "source": [
    "import random\n",
    "guessesTaken = 0\n",
    "print('Please tell your name')\n",
    "myName = input()\n",
    "number = random.randint(1, 30)\n",
    "print('Well, ' + myName + ', Guess a number between 1 and 30.')\n",
    "while guessesTaken < 3:\n",
    "        print('What is the number.') \n",
    "        guess = input()\n",
    "        guess = int(guess)\n",
    "        guessesTaken = guessesTaken + 1\n",
    "        if guess < number:\n",
    "            print('The Number is bigger.') \n",
    "        if guess > number:\n",
    "            print('The Number is lower.')\n",
    "        if guess == number:\n",
    "            break\n",
    "        if guess == number:\n",
    "            guessesTaken = str(guessesTaken)\n",
    "            print('Good job, ' + myName + '! You guessed my number in ' + guessesTaken + ' guesses!')\n",
    "            if guess != number:\n",
    "                number = str(number)\n",
    "            print('Nope. The number was ' + number)"
   ]
  },
  {
   "cell_type": "code",
   "execution_count": null,
   "metadata": {},
   "outputs": [],
   "source": []
  }
 ],
 "metadata": {
  "kernelspec": {
   "display_name": "Python 3",
   "language": "python",
   "name": "python3"
  },
  "language_info": {
   "codemirror_mode": {
    "name": "ipython",
    "version": 3
   },
   "file_extension": ".py",
   "mimetype": "text/x-python",
   "name": "python",
   "nbconvert_exporter": "python",
   "pygments_lexer": "ipython3",
   "version": "3.7.4"
  }
 },
 "nbformat": 4,
 "nbformat_minor": 2
}
